{
 "cells": [
  {
   "cell_type": "code",
   "execution_count": null,
   "metadata": {},
   "outputs": [],
   "source": [
    "# import modules\n",
    "from src.util import *\n",
    "from src.universe import *\n",
    "from src.returns import *\n",
    "from src.master_index import *\n",
    "from src.text_processing import *\n",
    "import constants as const\n",
    "config = yaml.safe_load(open('config.yml'))\n",
    "\n",
    "# init logger\n",
    "init_logger()"
   ]
  },
  {
   "cell_type": "code",
   "execution_count": null,
   "metadata": {},
   "outputs": [],
   "source": [
    "universe = Universe()\n",
    "universe.get_wiki_tables()\n",
    "universe.get_hist_cons()\n",
    "universe.export()"
   ]
  },
  {
   "cell_type": "code",
   "execution_count": null,
   "metadata": {},
   "outputs": [],
   "source": [
    "return_data = ReturnData()\n",
    "return_data.get_price_data()\n",
    "return_data.cal_returns()\n",
    "return_data.export()"
   ]
  },
  {
   "cell_type": "code",
   "execution_count": null,
   "metadata": {},
   "outputs": [],
   "source": [
    "master_idx = MasterIndex()\n",
    "master_idx.build_master_idx()\n",
    "master_idx.export()"
   ]
  }
 ],
 "metadata": {
  "kernelspec": {
   "display_name": "Python 3.7.6 ('base')",
   "language": "python",
   "name": "python3"
  },
  "language_info": {
   "codemirror_mode": {
    "name": "ipython",
    "version": 3
   },
   "file_extension": ".py",
   "mimetype": "text/x-python",
   "name": "python",
   "nbconvert_exporter": "python",
   "pygments_lexer": "ipython3",
   "version": "3.7.6"
  },
  "orig_nbformat": 4,
  "vscode": {
   "interpreter": {
    "hash": "bbe1358039c209e6a130b3211c7f40aaf4f69f3362b7eae5fe32d2d498114034"
   }
  }
 },
 "nbformat": 4,
 "nbformat_minor": 2
}
